{
 "cells": [
  {
   "cell_type": "code",
   "execution_count": 30,
   "id": "89a5d018",
   "metadata": {},
   "outputs": [],
   "source": [
    "from selenium import webdriver\n",
    "from selenium.webdriver.chrome.service import Service as ChromeService\n",
    "from webdriver_manager.chrome import ChromeDriverManager\n",
    "from selenium.webdriver.common.by import By\n",
    "\n",
    "options = webdriver.ChromeOptions()\n",
    "\n",
    "options.add_experimental_option('prefs', {\n",
    "\"download.default_directory\": \"C:/Users/bnsla/OneDrive/Desktop/aws\",\n",
    "\"download.prompt_for_download\": False,\n",
    "\"plugins.always_open_pdf_externally\": True\n",
    "})\n",
    "\n",
    "driver = webdriver.Chrome(service=ChromeService(ChromeDriverManager().install()), options=options)\n",
    "\n",
    "url = \"https://www.whitsundayrc.qld.gov.au/our-council/about-council/council-meetings-and-agendas\"\n",
    "\n",
    "driver.get(url)\n",
    "driver.implicitly_wait(30)\n",
    "\n",
    "driver.maximize_window()\n",
    "all_a_tags = driver.find_elements(By.XPATH, \"//a\")\n",
    "links = []\n",
    "for i in all_a_tags:\n",
    "    if i.get_attribute('href') and \"downloads/file\" in i.get_attribute('href') and \"council-meeting\" in i.get_attribute('href'):\n",
    "        links.append(i.get_attribute('href'))"
   ]
  },
  {
   "cell_type": "code",
   "execution_count": 57,
   "id": "25ae6cdb",
   "metadata": {},
   "outputs": [
    {
     "name": "stdout",
     "output_type": "stream",
     "text": [
      "minutes_downloaded successsfully\n",
      "agendas_downloaded successsfully\n"
     ]
    }
   ],
   "source": [
    "links = list(set(links))\n",
    "\n",
    "agendas, minutes = Preprocessor.fetch_ageandas_meetings(links)\n",
    "\n",
    "minutes_pdfs = Preprocessor.fetch_pdfs(\"C:/Users/bnsla/OneDrive/Desktop/github/selenium project/data/minutes\")\n",
    "agendas_pdfs = Preprocessor.fetch_pdfs(\"C:/Users/bnsla/OneDrive/Desktop/github/selenium project/data/agendas\")\n",
    "\n",
    "updated_minutes = [i for i in minutes if i[i.rfind(\"/\") + 1:] + \".pdf\" not in minutes_pdfs]\n",
    "updated_agendas = [i for i in agendas if i[i.rfind(\"/\") + 1:] + \".pdf\" not in agendas_pdfs]\n",
    "\n",
    "for i in updated_minutes:\n",
    "    Preprocessor.download_pdf(i,\"C:/Users/bnsla/OneDrive/Desktop/github/selenium project/data/minutes\")\n",
    "print(\"minutes_downloaded successsfully\")\n",
    "\n",
    "for i in updated_agendas[0:]:\n",
    "        Preprocessor.download_pdf(i,\"C:/Users/bnsla/OneDrive/Desktop/github/selenium project/data/agendas\")\n",
    "print(\"agendas_downloaded successsfully\")"
   ]
  },
  {
   "cell_type": "code",
   "execution_count": null,
   "id": "72a95689",
   "metadata": {},
   "outputs": [],
   "source": []
  }
 ],
 "metadata": {
  "kernelspec": {
   "display_name": "Python 3 (ipykernel)",
   "language": "python",
   "name": "python3"
  },
  "language_info": {
   "codemirror_mode": {
    "name": "ipython",
    "version": 3
   },
   "file_extension": ".py",
   "mimetype": "text/x-python",
   "name": "python",
   "nbconvert_exporter": "python",
   "pygments_lexer": "ipython3",
   "version": "3.11.5"
  }
 },
 "nbformat": 4,
 "nbformat_minor": 5
}
